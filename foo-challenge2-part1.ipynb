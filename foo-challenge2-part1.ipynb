{
 "cells": [
  {
   "cell_type": "code",
   "execution_count": 58,
   "metadata": {
    "collapsed": false,
    "deletable": true,
    "editable": true
   },
   "outputs": [
    {
     "name": "stdout",
     "output_type": "stream",
     "text": [
      "Hall:  ['<', '<', '>', '>', '<']\n",
      "Going right:  2\n",
      "Going left:  3\n",
      "Salutes right:  2\n",
      "Salutes left:  2\n",
      "Total salutes:  4\n"
     ]
    },
    {
     "data": {
      "text/plain": [
       "4"
      ]
     },
     "execution_count": 58,
     "metadata": {},
     "output_type": "execute_result"
    }
   ],
   "source": [
    "def answer(s):\n",
    "    # your code here\n",
    "    # hall ex: \"--->-><-><-->-\"\n",
    "    hall = list(s)\n",
    "    right = hall.count(\">\")\n",
    "    left = hall.count(\"<\")\n",
    "    print('Hall: ',hall)\n",
    "    print('Going right: ',right)\n",
    "    print('Going left: ',left)\n",
    "    # return salute\n",
    "    infront = []\n",
    "    salutesr = 0\n",
    "    salutesl = 0\n",
    "\n",
    "    for space in range(0,len(hall)):\n",
    "        if hall[space] == '>':\n",
    "            infront = (hall[(space+1):])\n",
    "            salutesr = salutesr + infront.count('<')\n",
    "    for space in range(len(hall)-1,-1,-1):      \n",
    "        if hall[space] == '<':\n",
    "            infront = (hall[:(space)])\n",
    "            salutesl = salutesl + infront.count('>')\n",
    "    print('Salutes right: ', salutesr)\n",
    "    print('Salutes left: ', salutesl)\n",
    "    totalsalutes = salutesr+ salutesl\n",
    "    print('Total salutes: ',totalsalutes) \n",
    "    return totalsalutes\n",
    "\n",
    "# test\n",
    "#answer(\"--->-><-><-->-\")\n",
    "answer(\"<<>><\")\n",
    "    "
   ]
  }
 ],
 "metadata": {
  "kernelspec": {
   "display_name": "Python 3",
   "language": "python",
   "name": "python3"
  },
  "language_info": {
   "codemirror_mode": {
    "name": "ipython",
    "version": 3
   },
   "file_extension": ".py",
   "mimetype": "text/x-python",
   "name": "python",
   "nbconvert_exporter": "python",
   "pygments_lexer": "ipython3",
   "version": "3.6.0"
  }
 },
 "nbformat": 4,
 "nbformat_minor": 0
}
